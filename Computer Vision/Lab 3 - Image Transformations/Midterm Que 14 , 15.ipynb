{
 "cells": [
  {
   "cell_type": "code",
   "execution_count": 16,
   "id": "c200bba5",
   "metadata": {},
   "outputs": [
    {
     "name": "stdout",
     "output_type": "stream",
     "text": [
      "[[ 869.74134086]\n",
      " [-233.34523779]\n",
      " [   1.        ]]\n"
     ]
    }
   ],
   "source": [
    "# Que14.\n",
    "import numpy as np\n",
    "\n",
    "# Define the coordinates of the pixel\n",
    "pixel_coords = np.array([[50], [60], [1]])\n",
    "\n",
    "# Define the individual transformation matrices\n",
    "T = np.array([[1, 0, 100],\n",
    "              [0, 1, 200],\n",
    "              [0, 0, 1]])\n",
    "\n",
    "R = np.array([[np.cos(np.pi/4), np.sin(np.pi/4), 0],\n",
    "              [np.sin(np.pi/4), -np.cos(np.pi/4), 0],\n",
    "              [0, 0, 1]])\n",
    "\n",
    "S = np.array([[3, 0, 0],\n",
    "              [0, 3, 0],\n",
    "              [0, 0, 1]])\n",
    "\n",
    "# Calculate the composite transformation matrix\n",
    "M = S.dot(R).dot(T)\n",
    "\n",
    "# Apply the transformation to the pixel coordinates\n",
    "new_pixel_coords = M.dot(pixel_coords)\n",
    "\n",
    "# Print the result\n",
    "print(new_pixel_coords)\n"
   ]
  },
  {
   "cell_type": "code",
   "execution_count": 17,
   "id": "3f8cec15",
   "metadata": {},
   "outputs": [
    {
     "name": "stdout",
     "output_type": "stream",
     "text": [
      "3.7207999999999997\n"
     ]
    }
   ],
   "source": [
    "# Que15.\n",
    "# Given values\n",
    "f00 = 0.7\n",
    "f10 = 8.1\n",
    "f01 = 3.5\n",
    "f11 = 6.4\n",
    "x = 0.32\n",
    "y = 0.48\n",
    "\n",
    "# Calculate the intermediate values\n",
    "A = (1 - x) * (1 - y) * f00\n",
    "B = x * (1 - y) * f10\n",
    "C = (1 - x) * y * f01\n",
    "D = x * y * f11\n",
    "\n",
    "# Calculate the interpolated value\n",
    "interpolated_value = A + B + C + D\n",
    "\n",
    "print(interpolated_value)\n"
   ]
  },
  {
   "cell_type": "code",
   "execution_count": null,
   "id": "b24694d6",
   "metadata": {},
   "outputs": [],
   "source": []
  }
 ],
 "metadata": {
  "kernelspec": {
   "display_name": "Python 3 (ipykernel)",
   "language": "python",
   "name": "python3"
  },
  "language_info": {
   "codemirror_mode": {
    "name": "ipython",
    "version": 3
   },
   "file_extension": ".py",
   "mimetype": "text/x-python",
   "name": "python",
   "nbconvert_exporter": "python",
   "pygments_lexer": "ipython3",
   "version": "3.10.13"
  }
 },
 "nbformat": 4,
 "nbformat_minor": 5
}
