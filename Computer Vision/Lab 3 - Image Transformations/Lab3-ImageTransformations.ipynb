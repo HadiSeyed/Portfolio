{
 "cells": [
  {
   "cell_type": "markdown",
   "metadata": {
    "collapsed": true
   },
   "source": [
    "# Image Transformations Lab\n",
    "All  of  the  programming  assignments  are  to  be  done  in  Python  using  additional  libraries  specified  in  the  assignments.  There  are many  libraries  available,  some  of  which  we  will  be  using,  and  you  are  welcome  to  use  them  with  one  exception:  if  the  library  or  a  function  within  it  performs  the  specific  function  you  are  asked  to  code,  you  may  not  use  that  other  than  perhaps  as  a  reference  to  compare  against. All  of  the  code  you  submit  must  be  your  own. You are welcome to turn in a completed jupyter notebook.\n",
    "\n",
    "**Note:** In most math classes, the direction of the positve Y-axis is up. In this lab (and most image packages), the direction of the positive Y-axis is down. This means that you will need to rotate in the opposite direction of what you might intuitively think.\n",
    "\n",
    "**Note:** For this lab you will need a package called Python Image Libary or PIL. You may need to install it into your python environment with `conda install pillow` or `pip install pillow`."
   ]
  },
  {
   "cell_type": "markdown",
   "metadata": {},
   "source": [
    "#### Preliminary Code"
   ]
  },
  {
   "cell_type": "code",
   "execution_count": null,
   "metadata": {},
   "outputs": [],
   "source": [
    "import numpy as np\n",
    "import matplotlib.pyplot as plt\n",
    "from PIL import Image\n",
    "\n",
    "%matplotlib notebook\n",
    "\n",
    "def compose(frame, image, transformation):\n",
    "    \n",
    "    width, height = frame.size\n",
    "    \n",
    "    #Invert matrix for compose function, grab values for Affine Transform\n",
    "    t = np.linalg.inv(transformation)\n",
    "    a=t[0,0]; b=t[0,1]; c=t[0,2]; d=t[1,0]; e=t[1,1]; f=t[1,2]\n",
    "    \n",
    "    image = image.transform((width,height), Image.AFFINE,(a,b,c,d,e,f), Image.BICUBIC)\n",
    "\n",
    "    #Make mask from image's location\n",
    "    im = np.sum(np.asarray(image), -1)\n",
    "    vals = 255.0*( im > 0)\n",
    "    mask = Image.fromarray(vals).convert(\"1\")\n",
    "\n",
    "    #Composite images together\n",
    "    result = Image.composite(image,frame,mask)\n",
    "\n",
    "    return result"
   ]
  },
  {
   "cell_type": "markdown",
   "metadata": {},
   "source": [
    "#### Your Defined Transformations\n",
    "\n",
    "For this lab you will take a set of 12 images that are given to you, then perform the appropriate translations, rotations, and scales to place those images in the locations specified in the output collage. You will need to provide the appropriate transformation matrices to place the other 11. The transformation matrices should assume homogenous coordinates. One of the 12 images has been done for you in the code below.\n",
    "\n",
    "Tip: Make sure you are comfortable with building your own transformations and how the compositing code works, then try implementing your own function that generates transformation matrices based on scale, roation, and translation values."
   ]
  },
  {
   "cell_type": "code",
   "execution_count": null,
   "metadata": {},
   "outputs": [],
   "source": [
    "#Open the two images\n",
    "filename = \"PictureFrameCollage.png\"\n",
    "frame = Image.open(filename).convert(\"RGB\")\n",
    "\n",
    "filename0 = \"Bird0.png\"\n",
    "im = Image.open(filename0).convert(\"RGB\")\n",
    "\n",
    "#Define the transformation to the first picture frame\n",
    "transformation = np.matrix([[1,0,619],[0,1,433],[0,0,1]])\n",
    "\n",
    "#Compose the two images together\n",
    "result = compose(frame, im, transformation)\n",
    "    \n",
    "#Show the result\n",
    "plt.imshow(result)\n",
    "plt.show()\n",
    "\n",
    "#Uncomment this line if you want to save the image\n",
    "#result.save(\"Output.png\")"
   ]
  },
  {
   "cell_type": "code",
   "execution_count": null,
   "metadata": {},
   "outputs": [],
   "source": []
  }
 ],
 "metadata": {
  "kernelspec": {
   "display_name": "Python 3 (ipykernel)",
   "language": "python",
   "name": "python3"
  },
  "language_info": {
   "codemirror_mode": {
    "name": "ipython",
    "version": 3
   },
   "file_extension": ".py",
   "mimetype": "text/x-python",
   "name": "python",
   "nbconvert_exporter": "python",
   "pygments_lexer": "ipython3",
   "version": "3.10.9"
  }
 },
 "nbformat": 4,
 "nbformat_minor": 2
}
