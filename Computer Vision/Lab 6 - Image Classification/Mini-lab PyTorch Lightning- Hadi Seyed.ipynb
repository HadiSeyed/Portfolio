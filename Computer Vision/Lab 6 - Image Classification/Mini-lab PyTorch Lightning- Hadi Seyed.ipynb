{
 "cells": [
  {
   "cell_type": "code",
   "execution_count": 13,
   "id": "f9baf5bb",
   "metadata": {},
   "outputs": [
    {
     "name": "stderr",
     "output_type": "stream",
     "text": [
      "C:\\Users\\hadi\\anaconda3\\envs\\compvis\\lib\\site-packages\\torchvision\\models\\_utils.py:208: UserWarning: The parameter 'pretrained' is deprecated since 0.13 and may be removed in the future, please use 'weights' instead.\n",
      "  warnings.warn(\n",
      "C:\\Users\\hadi\\anaconda3\\envs\\compvis\\lib\\site-packages\\torchvision\\models\\_utils.py:223: UserWarning: Arguments other than a weight enum or `None` for 'weights' are deprecated since 0.13 and may be removed in the future. The current behavior is equivalent to passing `weights=ResNet18_Weights.IMAGENET1K_V1`. You can also use `weights=ResNet18_Weights.DEFAULT` to get the most up-to-date weights.\n",
      "  warnings.warn(msg)\n",
      "GPU available: False, used: False\n",
      "TPU available: False, using: 0 TPU cores\n",
      "IPU available: False, using: 0 IPUs\n",
      "HPU available: False, using: 0 HPUs\n",
      "\n",
      "   | Name      | Type               | Params\n",
      "--------------------------------------------------\n",
      "0  | conv1     | Conv2d             | 9.4 K \n",
      "1  | bn1       | BatchNorm2d        | 128   \n",
      "2  | relu      | ReLU               | 0     \n",
      "3  | maxpool   | MaxPool2d          | 0     \n",
      "4  | layer1    | Sequential         | 147 K \n",
      "5  | layer2    | Sequential         | 525 K \n",
      "6  | layer3    | Sequential         | 2.1 M \n",
      "7  | layer4    | Sequential         | 8.4 M \n",
      "8  | avgpool   | AdaptiveAvgPool2d  | 0     \n",
      "9  | fc        | Linear             | 100 K \n",
      "10 | loss_func | CrossEntropyLoss   | 0     \n",
      "11 | val_acc   | MulticlassAccuracy | 0     \n",
      "12 | test_acc  | MulticlassAccuracy | 0     \n",
      "--------------------------------------------------\n",
      "11.3 M    Trainable params\n",
      "0         Non-trainable params\n",
      "11.3 M    Total params\n",
      "45.108    Total estimated model params size (MB)\n"
     ]
    },
    {
     "data": {
      "application/vnd.jupyter.widget-view+json": {
       "model_id": "",
       "version_major": 2,
       "version_minor": 0
      },
      "text/plain": [
       "Sanity Checking: |                                                                               | 0/? [00:00<…"
      ]
     },
     "metadata": {},
     "output_type": "display_data"
    },
    {
     "name": "stderr",
     "output_type": "stream",
     "text": [
      "C:\\Users\\hadi\\anaconda3\\envs\\compvis\\lib\\site-packages\\pytorch_lightning\\trainer\\connectors\\data_connector.py:441: The 'val_dataloader' does not have many workers which may be a bottleneck. Consider increasing the value of the `num_workers` argument` to `num_workers=7` in the `DataLoader` to improve performance.\n",
      "C:\\Users\\hadi\\anaconda3\\envs\\compvis\\lib\\site-packages\\pytorch_lightning\\trainer\\connectors\\data_connector.py:441: The 'train_dataloader' does not have many workers which may be a bottleneck. Consider increasing the value of the `num_workers` argument` to `num_workers=7` in the `DataLoader` to improve performance.\n"
     ]
    },
    {
     "data": {
      "application/vnd.jupyter.widget-view+json": {
       "model_id": "0444d90263ff4e7fa8aef22b7f322a25",
       "version_major": 2,
       "version_minor": 0
      },
      "text/plain": [
       "Training: |                                                                                      | 0/? [00:00<…"
      ]
     },
     "metadata": {},
     "output_type": "display_data"
    },
    {
     "data": {
      "application/vnd.jupyter.widget-view+json": {
       "model_id": "",
       "version_major": 2,
       "version_minor": 0
      },
      "text/plain": [
       "Validation: |                                                                                    | 0/? [00:00<…"
      ]
     },
     "metadata": {},
     "output_type": "display_data"
    },
    {
     "name": "stderr",
     "output_type": "stream",
     "text": [
      "C:\\Users\\hadi\\anaconda3\\envs\\compvis\\lib\\site-packages\\pytorch_lightning\\trainer\\call.py:54: Detected KeyboardInterrupt, attempting graceful shutdown...\n",
      "Restoring states from the checkpoint path at my_logs\\lightning_logs\\version_9\\checkpoints\\epoch=0-step=6515.ckpt\n",
      "Loaded model weights from the checkpoint at my_logs\\lightning_logs\\version_9\\checkpoints\\epoch=0-step=6515.ckpt\n",
      "C:\\Users\\hadi\\anaconda3\\envs\\compvis\\lib\\site-packages\\pytorch_lightning\\trainer\\connectors\\data_connector.py:441: The 'test_dataloader' does not have many workers which may be a bottleneck. Consider increasing the value of the `num_workers` argument` to `num_workers=7` in the `DataLoader` to improve performance.\n"
     ]
    },
    {
     "data": {
      "application/vnd.jupyter.widget-view+json": {
       "model_id": "6d7537920b21435ea6741c5cde4141d5",
       "version_major": 2,
       "version_minor": 0
      },
      "text/plain": [
       "Testing: |                                                                                       | 0/? [00:00<…"
      ]
     },
     "metadata": {},
     "output_type": "display_data"
    },
    {
     "name": "stdout",
     "output_type": "stream",
     "text": [
      "────────────────────────────────────────────────────────────────────────────────────────────────────────────────────────\r\n",
      "       Test metric             DataLoader 0\r\n",
      "────────────────────────────────────────────────────────────────────────────────────────────────────────────────────────\r\n",
      "        test_acc           0.0039796046912670135\r\n",
      "────────────────────────────────────────────────────────────────────────────────────────────────────────────────────────\n"
     ]
    },
    {
     "data": {
      "text/plain": [
       "[{'test_acc': 0.0039796046912670135}]"
      ]
     },
     "execution_count": 13,
     "metadata": {},
     "output_type": "execute_result"
    }
   ],
   "source": [
    "# TensorBoard(save_dir=\"my_logs\")\n",
    "import os\n",
    "import json\n",
    "import torch\n",
    "import torchvision\n",
    "import torch.nn as nn\n",
    "import torchmetrics\n",
    "import pytorch_lightning as pl\n",
    "from pytorch_lightning import loggers as pl_loggers\n",
    "from torch.utils.data import Dataset, DataLoader\n",
    "from torchvision import transforms\n",
    "from torchvision.io import read_image, ImageReadMode\n",
    "\n",
    "class MyDataset(Dataset):\n",
    "    \n",
    "    def __init__(self, annotation_file, data_dir):\n",
    "        super(MyDataset, self).__init__()\n",
    "        self.data_dir = data_dir\n",
    "        self.annotations = self._load_annotations(annotation_file)\n",
    "        self.image_names = list(self.annotations.keys())\n",
    "        self.image_list = os.listdir(self.data_dir)\n",
    "        \n",
    "        self.transform = transforms.Compose([\n",
    "                                transforms.RandomCrop((256,256),pad_if_needed=True),\n",
    "                                transforms.Normalize(mean=[0.485, 0.456, 0.406], std=[0.229, 0.224, 0.225])])\n",
    "\n",
    "    def _load_annotations(self, annotation_file):\n",
    "        with open(annotation_file, 'r') as f:\n",
    "            annotations = json.load(f)\n",
    "        return annotations\n",
    "\n",
    "    def __getitem__(self, idx):\n",
    "        img_name = self.image_names[idx]\n",
    "        img_path = os.path.join(self.data_dir, img_name)\n",
    "        label = self.annotations[img_name] - 1  # Convert 1-indexed to 0-indexed\n",
    "\n",
    "        img = torchvision.io.read_image(os.path.join(self.data_dir, self.image_list[idx]), ImageReadMode.RGB)\n",
    "        img = img.float() / 255.0  # Normalize pixel values to be between 0 and 1\n",
    "        img = self.transform(img)\n",
    "\n",
    "        return img, label\n",
    "\n",
    "    def __len__(self):\n",
    "        return len(self.image_names)\n",
    "\n",
    "# Example usage\n",
    "train_dataset = MyDataset(\"train_annos.json\", \"cars_train/\")\n",
    "split = int(len(train_dataset) * 0.8)\n",
    "train_dataset, validation_dataset = torch.utils.data.random_split(train_dataset, [split, len(train_dataset) - split])\n",
    "test_dataset = MyDataset(annotation_file=\"test_annos.json\", data_dir=\"cars_test/\")\n",
    "\n",
    "train_loader = DataLoader(train_dataset, batch_size=1)\n",
    "val_loader = DataLoader(validation_dataset, batch_size=1)\n",
    "test_loader = DataLoader(test_dataset, batch_size=1)\n",
    "\n",
    "\n",
    "class LitNetwork(pl.LightningModule):\n",
    "    def __init__(self):\n",
    "        super(LitNetwork, self).__init__()\n",
    "\n",
    "        # Load the pretrained ResNet18 model\n",
    "        ref_model = torchvision.models.resnet18(pretrained=True)\n",
    "\n",
    "        # Extract the layers from the pretrained model\n",
    "        self.conv1 = ref_model.conv1\n",
    "        self.bn1 = ref_model.bn1\n",
    "        self.relu = ref_model.relu\n",
    "        self.maxpool = ref_model.maxpool\n",
    "        self.layer1 = ref_model.layer1\n",
    "        self.layer2 = ref_model.layer2\n",
    "        self.layer3 = ref_model.layer3\n",
    "        self.layer4 = ref_model.layer4\n",
    "        self.avgpool = ref_model.avgpool\n",
    "\n",
    "        # Define your own fully connected layer for the new classification task\n",
    "        self.fc = nn.Linear(512, 196)\n",
    "\n",
    "        self.loss_func = torch.nn.CrossEntropyLoss()\n",
    "        self.val_acc = torchmetrics.Accuracy(\"multiclass\", num_classes=196, average='micro')\n",
    "        self.test_acc = torchmetrics.Accuracy(\"multiclass\", num_classes=196, average='micro')\n",
    "\n",
    "    def forward(self, x):\n",
    "        x = self.conv1(x)\n",
    "        x = self.bn1(x)\n",
    "        x = self.relu(x)\n",
    "        x = self.maxpool(x)\n",
    "\n",
    "        x = self.layer1(x)\n",
    "        x = self.layer2(x)\n",
    "        x = self.layer3(x)\n",
    "        x = self.layer4(x)\n",
    "\n",
    "        x = self.avgpool(x)\n",
    "        x = x.view(x.size(0), -1)\n",
    "        x = self.fc(x)\n",
    "\n",
    "        return x\n",
    "\n",
    "    def configure_optimizers(self):\n",
    "        optimizer = torch.optim.Adam(self.parameters(), lr=1e-3)\n",
    "        return optimizer\n",
    "\n",
    "    def training_step(self, batch, batch_idx):\n",
    "        images, labels = batch\n",
    "        outs = self.forward(images)\n",
    "        loss = self.loss_func(outs, labels)\n",
    "        self.log(\"train_loss\", loss, on_step=False, on_epoch=True, sync_dist=True)\n",
    "        return loss\n",
    "\n",
    "    def validation_step(self, batch, batch_idx):\n",
    "        images, labels = batch\n",
    "        outs = self.forward(images)\n",
    "        self.val_acc(outs, labels)\n",
    "        self.log(\"val_acc\", self.val_acc, on_step=False, on_epoch=True, sync_dist=True)\n",
    "        return None\n",
    "\n",
    "    def test_step(self, batch, batch_idx):\n",
    "        images, labels = batch\n",
    "        outs = self.forward(images)\n",
    "        self.test_acc(outs, labels)\n",
    "        self.log(\"test_acc\", self.test_acc, on_step=False, on_epoch=True, sync_dist=True)\n",
    "        return None\n",
    "\n",
    "\n",
    "model = LitNetwork()\n",
    "checkpoint = pl.callbacks.ModelCheckpoint(monitor='val_acc', save_top_k=1, mode='max')\n",
    "logger = pl_loggers.TensorBoardLogger(save_dir=\"my_logs\")\n",
    "\n",
    "device = \"cpu\"  # Use 'cuda' for GPU\n",
    "trainer = pl.Trainer(max_epochs=10, accelerator=device, callbacks=[checkpoint], logger=logger)\n",
    "trainer.fit(model, train_loader, val_loader)\n",
    "\n",
    "trainer.test(ckpt_path=\"best\", dataloaders=test_loader)\n"
   ]
  },
  {
   "cell_type": "code",
   "execution_count": 8,
   "id": "feac6eee",
   "metadata": {},
   "outputs": [
    {
     "name": "stderr",
     "output_type": "stream",
     "text": [
      "GPU available: False, used: False\n",
      "TPU available: False, using: 0 TPU cores\n",
      "IPU available: False, using: 0 IPUs\n",
      "HPU available: False, using: 0 HPUs\n",
      "Missing logger folder: my_logs\\my_csv_logs\n",
      "\n",
      "   | Name      | Type               | Params\n",
      "--------------------------------------------------\n",
      "0  | conv1     | Conv2d             | 9.4 K \n",
      "1  | bn1       | BatchNorm2d        | 128   \n",
      "2  | relu      | ReLU               | 0     \n",
      "3  | maxpool   | MaxPool2d          | 0     \n",
      "4  | layer1    | Sequential         | 147 K \n",
      "5  | layer2    | Sequential         | 525 K \n",
      "6  | layer3    | Sequential         | 2.1 M \n",
      "7  | layer4    | Sequential         | 8.4 M \n",
      "8  | avgpool   | AdaptiveAvgPool2d  | 0     \n",
      "9  | fc        | Linear             | 100 K \n",
      "10 | loss_func | CrossEntropyLoss   | 0     \n",
      "11 | val_acc   | MulticlassAccuracy | 0     \n",
      "12 | test_acc  | MulticlassAccuracy | 0     \n",
      "--------------------------------------------------\n",
      "11.3 M    Trainable params\n",
      "0         Non-trainable params\n",
      "11.3 M    Total params\n",
      "45.108    Total estimated model params size (MB)\n"
     ]
    },
    {
     "data": {
      "application/vnd.jupyter.widget-view+json": {
       "model_id": "",
       "version_major": 2,
       "version_minor": 0
      },
      "text/plain": [
       "Sanity Checking: |                                                                               | 0/? [00:00<…"
      ]
     },
     "metadata": {},
     "output_type": "display_data"
    },
    {
     "name": "stderr",
     "output_type": "stream",
     "text": [
      "C:\\Users\\hadi\\anaconda3\\envs\\compvis\\lib\\site-packages\\pytorch_lightning\\trainer\\connectors\\data_connector.py:441: The 'val_dataloader' does not have many workers which may be a bottleneck. Consider increasing the value of the `num_workers` argument` to `num_workers=7` in the `DataLoader` to improve performance.\n",
      "C:\\Users\\hadi\\anaconda3\\envs\\compvis\\lib\\site-packages\\pytorch_lightning\\trainer\\connectors\\data_connector.py:441: The 'train_dataloader' does not have many workers which may be a bottleneck. Consider increasing the value of the `num_workers` argument` to `num_workers=7` in the `DataLoader` to improve performance.\n"
     ]
    },
    {
     "data": {
      "application/vnd.jupyter.widget-view+json": {
       "model_id": "5bfde30039bf47d8b5841b9bdf866972",
       "version_major": 2,
       "version_minor": 0
      },
      "text/plain": [
       "Training: |                                                                                      | 0/? [00:00<…"
      ]
     },
     "metadata": {},
     "output_type": "display_data"
    },
    {
     "data": {
      "application/vnd.jupyter.widget-view+json": {
       "model_id": "",
       "version_major": 2,
       "version_minor": 0
      },
      "text/plain": [
       "Validation: |                                                                                    | 0/? [00:00<…"
      ]
     },
     "metadata": {},
     "output_type": "display_data"
    },
    {
     "name": "stderr",
     "output_type": "stream",
     "text": [
      "C:\\Users\\hadi\\anaconda3\\envs\\compvis\\lib\\site-packages\\pytorch_lightning\\trainer\\call.py:54: Detected KeyboardInterrupt, attempting graceful shutdown...\n",
      "Restoring states from the checkpoint path at my_logs\\my_csv_logs\\version_0\\checkpoints\\epoch=0-step=6515.ckpt\n",
      "Loaded model weights from the checkpoint at my_logs\\my_csv_logs\\version_0\\checkpoints\\epoch=0-step=6515.ckpt\n",
      "C:\\Users\\hadi\\anaconda3\\envs\\compvis\\lib\\site-packages\\pytorch_lightning\\trainer\\connectors\\data_connector.py:441: The 'test_dataloader' does not have many workers which may be a bottleneck. Consider increasing the value of the `num_workers` argument` to `num_workers=7` in the `DataLoader` to improve performance.\n"
     ]
    },
    {
     "data": {
      "application/vnd.jupyter.widget-view+json": {
       "model_id": "13045a5096e54c69a6666919fa4a36ad",
       "version_major": 2,
       "version_minor": 0
      },
      "text/plain": [
       "Testing: |                                                                                       | 0/? [00:00<…"
      ]
     },
     "metadata": {},
     "output_type": "display_data"
    },
    {
     "name": "stdout",
     "output_type": "stream",
     "text": [
      "────────────────────────────────────────────────────────────────────────────────────────────────────────────────────────\r\n",
      "       Test metric             DataLoader 0\r\n",
      "────────────────────────────────────────────────────────────────────────────────────────────────────────────────────────\r\n",
      "        test_acc           0.004974505864083767\r\n",
      "────────────────────────────────────────────────────────────────────────────────────────────────────────────────────────\n"
     ]
    },
    {
     "data": {
      "text/plain": [
       "[{'test_acc': 0.004974505864083767}]"
      ]
     },
     "execution_count": 8,
     "metadata": {},
     "output_type": "execute_result"
    }
   ],
   "source": [
    "# CSV(save_dir=\"my_logs\", name=\"my_csv_logs\")\n",
    "import os\n",
    "import json\n",
    "import torch\n",
    "import torchvision\n",
    "import torch.nn as nn\n",
    "import torchmetrics\n",
    "import pytorch_lightning as pl\n",
    "from pytorch_lightning import loggers as pl_loggers\n",
    "from torch.utils.data import Dataset, DataLoader\n",
    "from torchvision import transforms\n",
    "from torchvision.io import read_image, ImageReadMode\n",
    "\n",
    "class MyDataset(Dataset):\n",
    "    \n",
    "    def __init__(self, annotation_file, data_dir):\n",
    "        super(MyDataset, self).__init__()\n",
    "        self.data_dir = data_dir\n",
    "        self.annotations = self._load_annotations(annotation_file)\n",
    "        self.image_names = list(self.annotations.keys())\n",
    "        self.image_list = os.listdir(self.data_dir)\n",
    "        \n",
    "        self.transform = transforms.Compose([\n",
    "                                transforms.RandomCrop((256,256),pad_if_needed=True),\n",
    "                                transforms.Normalize(mean=[0.485, 0.456, 0.406], std=[0.229, 0.224, 0.225])])\n",
    "\n",
    "    def _load_annotations(self, annotation_file):\n",
    "        with open(annotation_file, 'r') as f:\n",
    "            annotations = json.load(f)\n",
    "        return annotations\n",
    "\n",
    "    def __getitem__(self, idx):\n",
    "        img_name = self.image_names[idx]\n",
    "        img_path = os.path.join(self.data_dir, img_name)\n",
    "        label = self.annotations[img_name] - 1  # Convert 1-indexed to 0-indexed\n",
    "\n",
    "        img = torchvision.io.read_image(os.path.join(self.data_dir, self.image_list[idx]), ImageReadMode.RGB)\n",
    "        img = img.float() / 255.0  # Normalize pixel values to be between 0 and 1\n",
    "        img = self.transform(img)\n",
    "\n",
    "        return img, label\n",
    "\n",
    "    def __len__(self):\n",
    "        return len(self.image_names)\n",
    "\n",
    "# Example usage\n",
    "train_dataset = MyDataset(\"train_annos.json\", \"cars_train/\")\n",
    "split = int(len(train_dataset) * 0.8)\n",
    "train_dataset, validation_dataset = torch.utils.data.random_split(train_dataset, [split, len(train_dataset) - split])\n",
    "test_dataset = MyDataset(annotation_file=\"test_annos.json\", data_dir=\"cars_test/\")\n",
    "\n",
    "train_loader = DataLoader(train_dataset, batch_size=1)\n",
    "val_loader = DataLoader(validation_dataset, batch_size=1)\n",
    "test_loader = DataLoader(test_dataset, batch_size=1)\n",
    "\n",
    "\n",
    "class LitNetwork(pl.LightningModule):\n",
    "    def __init__(self):\n",
    "        super(LitNetwork, self).__init__()\n",
    "\n",
    "        # Load the pretrained ResNet18 model\n",
    "        ref_model = torchvision.models.resnet18(weights=True)\n",
    "\n",
    "        # Extract the layers from the pretrained model\n",
    "        self.conv1 = ref_model.conv1\n",
    "        self.bn1 = ref_model.bn1\n",
    "        self.relu = ref_model.relu\n",
    "        self.maxpool = ref_model.maxpool\n",
    "        self.layer1 = ref_model.layer1\n",
    "        self.layer2 = ref_model.layer2\n",
    "        self.layer3 = ref_model.layer3\n",
    "        self.layer4 = ref_model.layer4\n",
    "        self.avgpool = ref_model.avgpool\n",
    "\n",
    "        # Define your own fully connected layer for the new classification task\n",
    "        self.fc = nn.Linear(512, 196)\n",
    "\n",
    "        self.loss_func = torch.nn.CrossEntropyLoss()\n",
    "        self.val_acc = torchmetrics.Accuracy(\"multiclass\", num_classes=196, average='micro')\n",
    "        self.test_acc = torchmetrics.Accuracy(\"multiclass\", num_classes=196, average='micro')\n",
    "\n",
    "    def forward(self, x):\n",
    "        x = self.conv1(x)\n",
    "        x = self.bn1(x)\n",
    "        x = self.relu(x)\n",
    "        x = self.maxpool(x)\n",
    "\n",
    "        x = self.layer1(x)\n",
    "        x = self.layer2(x)\n",
    "        x = self.layer3(x)\n",
    "        x = self.layer4(x)\n",
    "\n",
    "        x = self.avgpool(x)\n",
    "        x = x.view(x.size(0), -1)\n",
    "        x = self.fc(x)\n",
    "\n",
    "        return x\n",
    "\n",
    "    def configure_optimizers(self):\n",
    "        optimizer = torch.optim.Adam(self.parameters(), lr=1e-3)\n",
    "        return optimizer\n",
    "\n",
    "    def training_step(self, batch, batch_idx):\n",
    "        images, labels = batch\n",
    "        outs = self.forward(images)\n",
    "        loss = self.loss_func(outs, labels)\n",
    "        self.log(\"train_loss\", loss, on_step=False, on_epoch=True, sync_dist=True)\n",
    "        return loss\n",
    "\n",
    "    def validation_step(self, batch, batch_idx):\n",
    "        images, labels = batch\n",
    "        outs = self.forward(images)\n",
    "        self.val_acc(outs, labels)\n",
    "        self.log(\"val_acc\", self.val_acc, on_step=False, on_epoch=True, sync_dist=True)\n",
    "        return None\n",
    "\n",
    "    def test_step(self, batch, batch_idx):\n",
    "        images, labels = batch\n",
    "        outs = self.forward(images)\n",
    "        self.test_acc(outs, labels)\n",
    "        self.log(\"test_acc\", self.test_acc, on_step=False, on_epoch=True, sync_dist=True)\n",
    "        return None\n",
    "\n",
    "\n",
    "model = LitNetwork()\n",
    "checkpoint = pl.callbacks.ModelCheckpoint(monitor='val_acc', save_top_k=1, mode='max')\n",
    "# Add CSVLogger to log metrics to a CSV file\n",
    "logger = pl_loggers.CSVLogger(save_dir=\"my_logs\", name=\"my_csv_logs\")\n",
    "\n",
    "\n",
    "device = \"cpu\"  # Use 'cuda' for GPU\n",
    "trainer = pl.Trainer(max_epochs=10, accelerator=device, callbacks=[checkpoint], logger=logger)\n",
    "trainer.fit(model, train_loader, val_loader)\n",
    "\n",
    "trainer.test(ckpt_path=\"best\", dataloaders=test_loader)\n"
   ]
  },
  {
   "cell_type": "code",
   "execution_count": 43,
   "id": "63e78f95",
   "metadata": {},
   "outputs": [
    {
     "name": "stdout",
     "output_type": "stream",
     "text": [
      "    val_acc  step  epoch  train_loss  test_acc\n",
      "0  0.005525  6514      0         NaN       NaN\n",
      "1       NaN  6514      0     5.50427       NaN\n",
      "2       NaN  6526      1         NaN  0.004975\n"
     ]
    },
    {
     "data": {
      "image/png": "[encoded data removed]",
      "text/plain": [
       "<Figure size 640x480 with 1 Axes>"
      ]
     },
     "metadata": {},
     "output_type": "display_data"
    }
   ],
   "source": [
    "import pandas as pd\n",
    "import matplotlib.pyplot as plt\n",
    "\n",
    "# Load the CSV file\n",
    "log_data = pd.read_csv(\"my_logs/my_csv_logs/version_0/metrics.csv\")\n",
    "print(log_data)\n",
    "\n",
    "# Plot the training loss\n",
    "plt.plot(log_data['epoch'], log_data['train_loss'], label='Train Loss')\n",
    "plt.plot(log_data['epoch'], log_data['val_acc'], label='Validation Accuracy')\n",
    "plt.legend()\n",
    "plt.xlabel('Epoch')\n",
    "plt.ylabel('Loss')\n",
    "plt.title('Training Loss and Validation Accuracy Over Time')\n",
    "plt.show()\n"
   ]
  },
  {
   "cell_type": "code",
   "execution_count": 19,
   "id": "be184045",
   "metadata": {},
   "outputs": [
    {
     "data": {
      "image/png": "[encoded data removed]",
      "text/plain": [
       "<Figure size 640x480 with 2 Axes>"
      ]
     },
     "metadata": {},
     "output_type": "display_data"
    }
   ],
   "source": [
    "import pandas as pd\n",
    "import matplotlib.pyplot as plt\n",
    "\n",
    "# Load the CSV file\n",
    "log_data = pd.read_csv(\"my_logs/my_csv_logs/version_0/metrics.csv\")\n",
    "\n",
    "# Create subplots with shared x-axis\n",
    "fig, ax1 = plt.subplots()\n",
    "\n",
    "# Plot training loss on the left y-axis\n",
    "color = 'tab:red'\n",
    "ax1.set_xlabel('Epoch')\n",
    "ax1.set_ylabel('Train Loss', color=color)\n",
    "ax1.plot(log_data['epoch'], log_data['train_loss'], color=color)\n",
    "ax1.tick_params(axis='y', labelcolor=color)\n",
    "\n",
    "# Create a twin Axes sharing the xaxis\n",
    "ax2 = ax1.twinx()\n",
    "color = 'tab:blue'\n",
    "ax2.set_ylabel('Validation Accuracy', color=color)\n",
    "ax2.plot(log_data['epoch'], log_data['val_acc'], color=color)\n",
    "ax2.tick_params(axis='y', labelcolor=color)\n",
    "\n",
    "plt.title('Training Loss and Validation Accuracy Over Time')\n",
    "plt.show()\n"
   ]
  },
  {
   "cell_type": "code",
   "execution_count": 22,
   "id": "7d3c8dbc",
   "metadata": {},
   "outputs": [
    {
     "data": {
      "image/png": "[encoded data removed]",
      "text/plain": [
       "<Figure size 640x480 with 2 Axes>"
      ]
     },
     "metadata": {},
     "output_type": "display_data"
    }
   ],
   "source": [
    "import pandas as pd\n",
    "import matplotlib.pyplot as plt\n",
    "\n",
    "# Load the CSV file\n",
    "log_data = pd.read_csv(\"my_logs/my_csv_logs/version_0/metrics.csv\")\n",
    "\n",
    "# Create subplots\n",
    "fig, ax1 = plt.subplots()\n",
    "\n",
    "# Plot training loss\n",
    "ax1.plot(log_data['epoch'], log_data['train_loss'], label='Train Loss', color='tab:red')\n",
    "ax1.set_xlabel('Epoch')\n",
    "ax1.set_ylabel('Train Loss', color='tab:red')\n",
    "ax1.tick_params(axis='y', labelcolor='tab:red')\n",
    "ax1.legend(loc='upper left')\n",
    "\n",
    "# Create a second y-axis to plot validation accuracy\n",
    "ax2 = ax1.twinx()\n",
    "ax2.plot(log_data['epoch'], log_data['val_acc'], label='Validation Accuracy', color='tab:blue')\n",
    "ax2.set_ylabel('Validation Accuracy', color='tab:blue')\n",
    "ax2.tick_params(axis='y', labelcolor='tab:blue')\n",
    "ax2.legend(loc='upper right')\n",
    "\n",
    "plt.title('Training Loss and Validation Accuracy Over Time')\n",
    "plt.show()\n"
   ]
  },
  {
   "cell_type": "code",
   "execution_count": null,
   "id": "6ee5e196",
   "metadata": {},
   "outputs": [],
   "source": []
  }
 ],
 "metadata": {
  "kernelspec": {
   "display_name": "Python 3 (ipykernel)",
   "language": "python",
   "name": "python3"
  },
  "language_info": {
   "codemirror_mode": {
    "name": "ipython",
    "version": 3
   },
   "file_extension": ".py",
   "mimetype": "text/x-python",
   "name": "python",
   "nbconvert_exporter": "python",
   "pygments_lexer": "ipython3",
   "version": "3.10.13"
  }
 },
 "nbformat": 4,
 "nbformat_minor": 5
}
