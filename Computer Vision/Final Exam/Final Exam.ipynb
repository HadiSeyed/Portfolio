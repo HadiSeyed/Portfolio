{
 "cells": [
  {
   "cell_type": "code",
   "execution_count": 1,
   "id": "34fd57a9",
   "metadata": {},
   "outputs": [
    {
     "name": "stdout",
     "output_type": "stream",
     "text": [
      "Number of iterations: 38\n"
     ]
    }
   ],
   "source": [
    "import math\n",
    "\n",
    "def calculate_ransac_iterations(inlier_ratio, probability_of_success, model_size):\n",
    "    return math.ceil(math.log(1 - probability_of_success) / math.log(1 - inlier_ratio**model_size))\n",
    "\n",
    "# Given values\n",
    "inlier_ratio = 0.5\n",
    "probability_of_success = 0.91377\n",
    "model_size = 4\n",
    "\n",
    "# Calculate the number of iterations\n",
    "iterations = calculate_ransac_iterations(inlier_ratio, probability_of_success, model_size)\n",
    "\n",
    "# Round up to the nearest iteration\n",
    "iterations = max(1, iterations)\n",
    "\n",
    "print(f\"Number of iterations: {iterations}\")\n"
   ]
  }
 ],
 "metadata": {
  "kernelspec": {
   "display_name": "Python 3 (ipykernel)",
   "language": "python",
   "name": "python3"
  },
  "language_info": {
   "codemirror_mode": {
    "name": "ipython",
    "version": 3
   },
   "file_extension": ".py",
   "mimetype": "text/x-python",
   "name": "python",
   "nbconvert_exporter": "python",
   "pygments_lexer": "ipython3",
   "version": "3.10.13"
  }
 },
 "nbformat": 4,
 "nbformat_minor": 5
}
