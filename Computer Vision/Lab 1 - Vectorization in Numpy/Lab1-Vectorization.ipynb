{
 "cells": [
  {
   "cell_type": "markdown",
   "metadata": {
    "collapsed": true
   },
   "source": [
    "# Vectorization and Level Operations Lab\n",
    "All  of  the  programming  assignments  are  to  be  done  in  Python  using  additional  libraries  specified  in  the  assignments.  There  are many  libraries  available,  some  of  which  we  will  be  using,  and  you  are  welcome  to  use  them  with  one  exception:  if  the  library  or  a  function  within  it  performs  the  specific  function  you  are  asked  to  code,  you  may  not  use  that  other  than  perhaps  as  a  reference  to  compare  against. All  of  the  code  you  submit  must  be  your  own. You are welcome to turn in a completed jupyter notebook."
   ]
  },
  {
   "cell_type": "markdown",
   "metadata": {},
   "source": [
    "# Preliminaries\n",
    "\n",
    "Before we begin the lab, let's review how to import packages in Python and introduce the ones you will be using.\n",
    "\n",
    "Python has multiple ways to import packages to use in the notebook. The keywords you can use are **import**, **from**, and **as**. Run the following cell by clicking \"Run\" or using `shift + enter`.\n"
   ]
  },
  {
   "cell_type": "code",
   "execution_count": null,
   "metadata": {},
   "outputs": [],
   "source": [
    "import math\n",
    "print(math.pi)\n",
    "\n",
    "from math import pi\n",
    "print(pi)\n",
    "\n",
    "from math import pi as taco\n",
    "print(taco)\n",
    "\n",
    "from math import * #Import everything from the package\n",
    "print(e)"
   ]
  },
  {
   "cell_type": "markdown",
   "metadata": {},
   "source": [
    "The two main packages we will use in this and future labs are called Numpy and Matplotlib. These are the \"Numerical Python\" and \"Matrix Plotting Library\" packages respectively. These two libraries provide tons of functionality related to matrix processing and image input and output.\n",
    "\n",
    "The conventional import method for these two packages looks like this:"
   ]
  },
  {
   "cell_type": "code",
   "execution_count": null,
   "metadata": {},
   "outputs": [],
   "source": [
    "import numpy as np\n",
    "import matplotlib.pyplot as plt"
   ]
  },
  {
   "cell_type": "markdown",
   "metadata": {},
   "source": [
    "Now we can reference these two packages simply as \"np\" and \"plt\". If either of these packages aren't importing, make sure to quit your jupyter notebook and run `pip install numpy` or `pip install matplotlib` in your terminal.\n",
    "\n",
    "Let's look at Numpy first. Numpy allows you store matrices natively and do matrix operations in a single step.\n",
    "\n",
    "Let's look at a simple matrix."
   ]
  },
  {
   "cell_type": "code",
   "execution_count": null,
   "metadata": {},
   "outputs": [],
   "source": [
    "import numpy as np\n",
    "a = np.matrix([[1, 2],[3,4]])\n",
    "\n",
    "print(a)"
   ]
  },
  {
   "cell_type": "code",
   "execution_count": null,
   "metadata": {},
   "outputs": [],
   "source": [
    "print(a[0,1]) #Row, Column zero-based indexing"
   ]
  },
  {
   "cell_type": "code",
   "execution_count": null,
   "metadata": {},
   "outputs": [],
   "source": [
    "print(a[:,1]) #Grab all rows and the second column\n",
    "print()\n",
    "print(a[0,:]) #Grab everything in the first row"
   ]
  },
  {
   "cell_type": "code",
   "execution_count": null,
   "metadata": {},
   "outputs": [],
   "source": [
    "print(np.multiply(a,a)) #Element-wise multiply\n",
    "print()\n",
    "print(np.matmul(a,a)) #True matrix multiply"
   ]
  },
  {
   "cell_type": "markdown",
   "metadata": {},
   "source": [
    "There are plenty of Numpy operations that we are not covering, but we will see more of these as we go throughout the class. For more details, go to https://docs.scipy.org/doc/numpy/reference/. Also, make sure to check out the Useful Numpy Commands page on Canvas.\n",
    "\n",
    "Now let's look at how we can import and display images with Matplotlib.\n",
    "\n",
    "Importing is easy. All we need to do is use the `imread()` function."
   ]
  },
  {
   "cell_type": "code",
   "execution_count": null,
   "metadata": {},
   "outputs": [],
   "source": [
    "import matplotlib.pyplot as plt\n",
    "\n",
    "geese = plt.imread('geese.jpg')\n",
    "\n",
    "print(geese.shape)"
   ]
  },
  {
   "cell_type": "markdown",
   "metadata": {},
   "source": [
    "Grabbing the `.shape` property shows us that we have loaded an images that is 256 rows by 256 columns and has 3 color channels. Let's look at what that picture looks like. We use the `imshow()` and `show()` functions to do so."
   ]
  },
  {
   "cell_type": "code",
   "execution_count": null,
   "metadata": {},
   "outputs": [],
   "source": [
    "plt.imshow(geese)\n",
    "plt.show()"
   ]
  },
  {
   "cell_type": "markdown",
   "metadata": {},
   "source": [
    "Now we can see the picture, but why do we need to use two seperate commands to display? Because you may choose to modify the display properties before you show it. For example, maybe you want to add a title."
   ]
  },
  {
   "cell_type": "code",
   "execution_count": null,
   "metadata": {},
   "outputs": [],
   "source": [
    "plt.imshow(geese) # This loads the image into the buffer\n",
    "plt.title(\"Geese in a Field\") # This modifies the plotting properties\n",
    "plt.show() # This outputs the final displayed image"
   ]
  },
  {
   "cell_type": "markdown",
   "metadata": {},
   "source": [
    "There is also a `plt.savefig()` function you can use to save images to your harddrive.\n",
    "\n",
    "And with that, you now have the basic tools you need to work with images. For this lab, we will only use grayscale operations to simplify our practice of level operations. The test cases will be provided for each part of the lab, but you can also use the following code to load and plot grayscale images:"
   ]
  },
  {
   "cell_type": "code",
   "execution_count": null,
   "metadata": {},
   "outputs": [],
   "source": [
    "import matplotlib.pyplot as plt\n",
    "import numpy as np\n",
    "\n",
    "%matplotlib inline\n",
    "\n",
    "cat = plt.imread('cat.jpg')\n",
    "cat = np.matrix(cat,dtype=np.int32)\n",
    "plt.imshow(cat,cmap=\"Greys_r\", vmin=0)\n",
    "plt.show()"
   ]
  },
  {
   "cell_type": "markdown",
   "metadata": {},
   "source": [
    "# Programming Exercises"
   ]
  },
  {
   "cell_type": "markdown",
   "metadata": {},
   "source": [
    "**The purpose of this lab is to learn how to use the vectorization features of Numpy. You are not allowed to use a for or while loop for any part of this lab. Any use of a for or while loop will cost points.**"
   ]
  },
  {
   "cell_type": "markdown",
   "metadata": {},
   "source": [
    "Implement each of the following level operations as Python functions."
   ]
  },
  {
   "cell_type": "markdown",
   "metadata": {},
   "source": [
    "## Function 1: Brightness Adjust\n",
    "Takes in a grayscale image and returns the brightened version of that image according to a passed in parameter. Use a max image value of 255."
   ]
  },
  {
   "cell_type": "code",
   "execution_count": null,
   "metadata": {},
   "outputs": [],
   "source": [
    "def brightAdjust(image, c):\n",
    "    return None\n",
    "\n"
   ]
  },
  {
   "cell_type": "code",
   "execution_count": null,
   "metadata": {},
   "outputs": [],
   "source": [
    "#Test Cases\n",
    "bright_cat = brightAdjust(cat, 100)\n",
    "plt.imshow(bright_cat, cmap=\"Greys_r\",vmin=0, vmax=255);plt.title(\"Bright Cat\");plt.show()\n",
    "dark_cat = brightAdjust(cat, -100)\n",
    "plt.imshow(dark_cat, cmap=\"Greys_r\",vmin=0, vmax=255);plt.title(\"Dark Cat\");plt.show()"
   ]
  },
  {
   "cell_type": "markdown",
   "metadata": {},
   "source": [
    "## Function 2: Contrast Adjustment\n",
    "Takes in a grayscale image and returns the contrasted version of that image according to a passed in parameter. Use a max image value of 255.\n",
    "\n",
    "Also, rather than a straight linear operation, we will use a mapping similar to what Photoshop does. In particular, the contrast will be in the range [-100,100] where 0 denotes no change, -100 denotes complete loss of contrast, and 100 denotes maximum enhancement (8x multiplier). If *c* is the contrast parameter, then the level operation applied is:\n",
    "\n",
    "$$s = \\left(\\frac{c+100}{100}\\right)^4 (r-128) + 128$$\n",
    "\n",
    "Make sure you work in floating point, not integers. Integer division would not be very acurate."
   ]
  },
  {
   "cell_type": "code",
   "execution_count": null,
   "metadata": {},
   "outputs": [],
   "source": [
    "def contrastAdjust(image,c):\n",
    "    return None\n",
    "\n"
   ]
  },
  {
   "cell_type": "code",
   "execution_count": null,
   "metadata": {},
   "outputs": [],
   "source": [
    "#Test Cases\n",
    "high_contrast_cat = contrastAdjust(cat, 50)\n",
    "plt.imshow(high_contrast_cat, cmap=\"Greys_r\",vmin=0, vmax=255);plt.title(\"High Contrast Cat\");plt.show()\n",
    "low_contrast_cat = contrastAdjust(cat, -50)\n",
    "plt.imshow(low_contrast_cat, cmap=\"Greys_r\",vmin=0, vmax=255);plt.title(\"Low Contrast Cat\");plt.show()"
   ]
  },
  {
   "cell_type": "markdown",
   "metadata": {},
   "source": [
    "## Function 3: Thresholding\n",
    "Takes in a grayscale image and returns the thresholded version of the image according to a passed in parameter. Every pixel that is higher than or equal to the parameter is 255, everything below is zero. (Hint: Use np.where)"
   ]
  },
  {
   "cell_type": "code",
   "execution_count": null,
   "metadata": {},
   "outputs": [],
   "source": [
    "def thresholder(image, c):\n",
    "    return None\n"
   ]
  },
  {
   "cell_type": "code",
   "execution_count": null,
   "metadata": {},
   "outputs": [],
   "source": [
    "#Test Cases\n",
    "thresholded_cat = thresholder(cat, 80)\n",
    "plt.imshow(thresholded_cat, cmap=\"Greys_r\",vmin=0, vmax=255);plt.title(\"Thresholded Cat\");plt.show()"
   ]
  },
  {
   "cell_type": "markdown",
   "metadata": {},
   "source": [
    "## Function 4: Cropping\n",
    "Takes in a grayscale image, an x and y of a topleft pixel, a width, and a height and returns a cropped version of that image according to those parameters. **Recall to use row-major indexing with numpy arrays and matrices, i.e. they are indexed image[row, column], which corresponds to image[y, x].  Vectors use [x,y,z], however.** "
   ]
  },
  {
   "cell_type": "code",
   "execution_count": null,
   "metadata": {},
   "outputs": [],
   "source": [
    "def cropper(image, width, height, x=0, y=0):\n",
    "    return None\n",
    "\n"
   ]
  },
  {
   "cell_type": "code",
   "execution_count": null,
   "metadata": {},
   "outputs": [],
   "source": [
    "#Test Cases\n",
    "\n",
    "#This should show just the ear of the cat\n",
    "cropped_cat1 = cropper(cat, 100, 100)\n",
    "plt.imshow(cropped_cat1, cmap=\"Greys_r\",vmin=0, vmax=255);plt.title(\"Cropped Cat 1\");plt.show()\n",
    "#This should show just the eyes of the cat\n",
    "cropped_cat2 = cropper(cat, 120, 75, 90, 80)\n",
    "plt.imshow(cropped_cat2, cmap=\"Greys_r\",vmin=0, vmax=255);plt.title(\"Cropped Cat 2\");plt.show()"
   ]
  },
  {
   "cell_type": "markdown",
   "metadata": {},
   "source": [
    "## Function 5: Scaling\n",
    "Takes in a grayscale image and returns the same image with a resolution that is half the width and half the height of the original. (Hint: Think about what pixels you will want to grab to make that smaller image)"
   ]
  },
  {
   "cell_type": "code",
   "execution_count": null,
   "metadata": {},
   "outputs": [],
   "source": [
    "def scaler(image):\n",
    "    return None\n",
    "\n"
   ]
  },
  {
   "cell_type": "code",
   "execution_count": null,
   "metadata": {},
   "outputs": [],
   "source": [
    "#This line makes the image easier to see.\n",
    "%matplotlib notebook\n",
    "\n",
    "scaled_cat = scaler(cat)\n",
    "\n",
    "fig = plt.figure()\n",
    "ax1 = fig.add_subplot(1,2,1)\n",
    "ax1.imshow(cat, cmap=\"Greys_r\",vmin=0, vmax=255); ax1.set_title(\"Original\")\n",
    "ax2 = fig.add_subplot(1,2,2)\n",
    "ax2.imshow(scaled_cat, cmap=\"Greys_r\",vmin=0, vmax=255); ax2.set_title(\"Scaled\")\n",
    "plt.show()"
   ]
  },
  {
   "cell_type": "markdown",
   "metadata": {},
   "source": [
    "Run the following line of code once you are done to return back to normal plotting functions."
   ]
  },
  {
   "cell_type": "code",
   "execution_count": null,
   "metadata": {},
   "outputs": [],
   "source": [
    "%matplotlib inline"
   ]
  },
  {
   "cell_type": "code",
   "execution_count": null,
   "metadata": {},
   "outputs": [],
   "source": []
  }
 ],
 "metadata": {
  "kernelspec": {
   "display_name": "Python 3 (ipykernel)",
   "language": "python",
   "name": "python3"
  },
  "language_info": {
   "codemirror_mode": {
    "name": "ipython",
    "version": 3
   },
   "file_extension": ".py",
   "mimetype": "text/x-python",
   "name": "python",
   "nbconvert_exporter": "python",
   "pygments_lexer": "ipython3",
   "version": "3.10.12"
  }
 },
 "nbformat": 4,
 "nbformat_minor": 2
}
