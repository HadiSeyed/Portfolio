{
 "cells": [
  {
   "cell_type": "markdown",
   "id": "af23085f",
   "metadata": {},
   "source": [
    "# Step 1: Projection Matrix"
   ]
  },
  {
   "cell_type": "code",
   "execution_count": 1,
   "id": "7126703c",
   "metadata": {},
   "outputs": [
    {
     "ename": "SyntaxError",
     "evalue": "invalid syntax (990687866.py, line 13)",
     "output_type": "error",
     "traceback": [
      "\u001b[1;36m  Cell \u001b[1;32mIn[1], line 13\u001b[1;36m\u001b[0m\n\u001b[1;33m    world_to_camera = # implement your transformation matrix here\u001b[0m\n\u001b[1;37m                      ^\u001b[0m\n\u001b[1;31mSyntaxError\u001b[0m\u001b[1;31m:\u001b[0m invalid syntax\n"
     ]
    }
   ],
   "source": [
    "import numpy as np\n",
    "\n",
    "def buildProjectionMatrix():\n",
    "    # Set up camera parameters\n",
    "    location = np.array([0, 0, 10])\n",
    "    rotation_y = np.radians(180)\n",
    "    near_field = 1.0\n",
    "    far_field = 1000.0\n",
    "    fov_x = np.radians(100)\n",
    "    fov_y = np.radians(100)\n",
    "\n",
    "    # Build world-to-camera matrix\n",
    "    world_to_camera = # implement your transformation matrix here\n",
    "\n",
    "    # Build projection matrix\n",
    "    projection = # implement your projection matrix here\n",
    "\n",
    "    # Combine matrices\n",
    "    projection_matrix = np.dot(projection, world_to_camera)\n",
    "    \n",
    "    return projection_matrix\n"
   ]
  },
  {
   "cell_type": "markdown",
   "id": "d768e19f",
   "metadata": {},
   "source": [
    "# Step 2: Viewport Matrix"
   ]
  },
  {
   "cell_type": "code",
   "execution_count": 2,
   "id": "0cb7d7aa",
   "metadata": {},
   "outputs": [],
   "source": [
    "def toScreen(point, projection_matrix):\n",
    "    # Homogenous divide\n",
    "    point_canonical = point / point[3]\n",
    "\n",
    "    # Multiply by the viewport matrix\n",
    "    point_screen = np.dot(projection_matrix, point_canonical)\n",
    "\n",
    "    # Extract x, y coordinates\n",
    "    x = point_screen[0, 0]\n",
    "    y = point_screen[1, 0]\n",
    "\n",
    "    return x, y\n"
   ]
  },
  {
   "cell_type": "markdown",
   "id": "7c3c3348",
   "metadata": {},
   "source": [
    "# Step 3: User Interface"
   ]
  },
  {
   "cell_type": "code",
   "execution_count": 3,
   "id": "dc0370d3",
   "metadata": {},
   "outputs": [
    {
     "ename": "IndentationError",
     "evalue": "expected an indented block after 'if' statement on line 17 (3079724740.py, line 20)",
     "output_type": "error",
     "traceback": [
      "\u001b[1;36m  Cell \u001b[1;32mIn[3], line 20\u001b[1;36m\u001b[0m\n\u001b[1;33m    elif event.key == K_d:\u001b[0m\n\u001b[1;37m    ^\u001b[0m\n\u001b[1;31mIndentationError\u001b[0m\u001b[1;31m:\u001b[0m expected an indented block after 'if' statement on line 17\n"
     ]
    }
   ],
   "source": [
    "import pygame\n",
    "from pygame.locals import *\n",
    "\n",
    "# Initialize Pygame and set up the display\n",
    "pygame.init()\n",
    "width, height = 800, 600\n",
    "screen = pygame.display.set_mode((width, height))\n",
    "clock = pygame.time.Clock()\n",
    "\n",
    "# Example code to handle keyboard strokes\n",
    "while True:\n",
    "    for event in pygame.event.get():\n",
    "        if event.type == QUIT:\n",
    "            pygame.quit()\n",
    "            sys.exit()\n",
    "        elif event.type == KEYDOWN:\n",
    "            if event.key == K_a:\n",
    "                # Move Left\n",
    "                # Update camera properties accordingly\n",
    "            elif event.key == K_d:\n",
    "                # Move Right\n",
    "                # Update camera properties accordingly\n",
    "            # Add similar checks for other controls\n",
    "\n",
    "    pygame.display.flip()\n",
    "    clock.tick(60)\n"
   ]
  },
  {
   "cell_type": "markdown",
   "id": "cb868dea",
   "metadata": {},
   "source": [
    "# Step 4: Clipping Tests"
   ]
  },
  {
   "cell_type": "code",
   "execution_count": 4,
   "id": "26f3ae7e",
   "metadata": {},
   "outputs": [],
   "source": [
    "def clipTest(point):\n",
    "    # Implement clipping tests\n",
    "    return # True or False based on the tests\n"
   ]
  },
  {
   "cell_type": "markdown",
   "id": "636dae4e",
   "metadata": {},
   "source": [
    "# Extra Credit: Perspective and Orthographic Projection"
   ]
  },
  {
   "cell_type": "code",
   "execution_count": 7,
   "id": "28ba3f17",
   "metadata": {},
   "outputs": [
    {
     "ename": "SyntaxError",
     "evalue": "invalid syntax (2227551582.py, line 1)",
     "output_type": "error",
     "traceback": [
      "\u001b[1;36m  Cell \u001b[1;32mIn[7], line 1\u001b[1;36m\u001b[0m\n\u001b[1;33m    elif event.key == K_o:   # Switch to Orthographic Projection   # Update projection matrix and clipping tests accordingly\u001b[0m\n\u001b[1;37m    ^\u001b[0m\n\u001b[1;31mSyntaxError\u001b[0m\u001b[1;31m:\u001b[0m invalid syntax\n"
     ]
    }
   ],
   "source": [
    "elif event.key == K_o:\n",
    "    # Switch to Orthographic Projection\n",
    "    # Update projection matrix and clipping tests accordingly\n",
    "elif event.key == K_p:\n",
    "    # Switch to Perspective Projection\n",
    "    # Update projection matrix and clipping tests accordingly\n",
    "\n"
   ]
  },
  {
   "cell_type": "code",
   "execution_count": null,
   "id": "af3a7214",
   "metadata": {},
   "outputs": [],
   "source": [
    "# Define global variable for projection mode\n",
    "perspective_projection = True  # True for perspective, False for orthographic\n",
    "\n",
    "# Function to build projection matrix based on current projection mode\n",
    "def buildProjectionMatrix():\n",
    "    global perspective_projection\n",
    "    if perspective_projection:\n",
    "        # Build perspective projection matrix\n",
    "        # Your code for perspective projection matrix\n",
    "    else:\n",
    "        # Build orthographic projection matrix\n",
    "        # Your code for orthographic projection matrix\n",
    "\n",
    "# Controller Code\n",
    "for event in pygame.event.get():\n",
    "    if event.type == pygame.QUIT:  # If user clicked close\n",
    "        done = True\n",
    "    elif event.type == pygame.KEYDOWN:  # If a key was pressed\n",
    "        if event.key == pygame.K_h:  # Reset to home position\n",
    "            reset_camera()\n",
    "        elif event.key in [pygame.K_w, pygame.K_s, pygame.K_a, pygame.K_d, pygame.K_r, pygame.K_f]:\n",
    "            move_camera(event.unicode)\n",
    "        elif event.key in [pygame.K_q, pygame.K_e]:\n",
    "            rotate_camera(event.unicode)\n",
    "        elif event.key == pygame.K_o:  # Switch to Orthographic Projection\n",
    "            perspective_projection = False\n",
    "            buildProjectionMatrix()\n",
    "        elif event.key == pygame.K_p:  # Switch to Perspective Projection\n",
    "            perspective_projection = True\n",
    "            buildProjectionMatrix()\n",
    "\n",
    "            \n",
    "# We need to update the clipping tests to account for the new projection type          \n",
    "def clipTest(pt):\n",
    "    if perspective_projection:\n",
    "        # Perform perspective clipping tests\n",
    "        # Your code for perspective clipping tests\n",
    "    else:\n",
    "        # Perform orthographic clipping tests\n",
    "        x, y, z, w = pt[0, 0], pt[1, 0], pt[2, 0], pt[3, 0]\n",
    "        if x < -w or x > w or y < -w or y > w or z < -w or z > w:\n",
    "            return False  # Reject the point if it fails any clipping test\n",
    "        return True  # Otherwise, accept the point\n"
   ]
  },
  {
   "cell_type": "markdown",
   "id": "c2034fee",
   "metadata": {},
   "source": [
    "# Extra Credit: Load Car Model"
   ]
  },
  {
   "cell_type": "code",
   "execution_count": 6,
   "id": "e024ada6",
   "metadata": {},
   "outputs": [
    {
     "ename": "NameError",
     "evalue": "name 'car_model' is not defined",
     "output_type": "error",
     "traceback": [
      "\u001b[1;31m---------------------------------------------------------------------------\u001b[0m",
      "\u001b[1;31mNameError\u001b[0m                                 Traceback (most recent call last)",
      "Cell \u001b[1;32mIn[6], line 7\u001b[0m\n\u001b[0;32m      4\u001b[0m     \u001b[38;5;28;01mreturn\u001b[39;00m car_model\n\u001b[0;32m      6\u001b[0m \u001b[38;5;66;03m# Call loadCar() and use the returned model in your rendering loop\u001b[39;00m\n\u001b[1;32m----> 7\u001b[0m car_model \u001b[38;5;241m=\u001b[39m \u001b[43mloadCar\u001b[49m\u001b[43m(\u001b[49m\u001b[43m)\u001b[49m\n",
      "Cell \u001b[1;32mIn[6], line 4\u001b[0m, in \u001b[0;36mloadCar\u001b[1;34m()\u001b[0m\n\u001b[0;32m      1\u001b[0m \u001b[38;5;28;01mdef\u001b[39;00m \u001b[38;5;21mloadCar\u001b[39m():\n\u001b[0;32m      2\u001b[0m     \u001b[38;5;66;03m# Implement loading car model\u001b[39;00m\n\u001b[0;32m      3\u001b[0m     \u001b[38;5;66;03m# Implement object-to-world transformation\u001b[39;00m\n\u001b[1;32m----> 4\u001b[0m     \u001b[38;5;28;01mreturn\u001b[39;00m \u001b[43mcar_model\u001b[49m\n",
      "\u001b[1;31mNameError\u001b[0m: name 'car_model' is not defined"
     ]
    }
   ],
   "source": [
    "def loadCar():\n",
    "    # Implement loading car model\n",
    "    # Implement object-to-world transformation\n",
    "    return car_model\n",
    "\n",
    "# Call loadCar() and use the returned model in your rendering loop\n",
    "car_model = loadCar()\n"
   ]
  },
  {
   "cell_type": "code",
   "execution_count": null,
   "id": "6a3c47f3",
   "metadata": {},
   "outputs": [],
   "source": []
  }
 ],
 "metadata": {
  "kernelspec": {
   "display_name": "Python 3 (ipykernel)",
   "language": "python",
   "name": "python3"
  },
  "language_info": {
   "codemirror_mode": {
    "name": "ipython",
    "version": 3
   },
   "file_extension": ".py",
   "mimetype": "text/x-python",
   "name": "python",
   "nbconvert_exporter": "python",
   "pygments_lexer": "ipython3",
   "version": "3.10.13"
  }
 },
 "nbformat": 4,
 "nbformat_minor": 5
}
